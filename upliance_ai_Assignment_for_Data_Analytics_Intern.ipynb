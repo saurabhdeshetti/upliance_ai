{
  "nbformat": 4,
  "nbformat_minor": 0,
  "metadata": {
    "colab": {
      "provenance": []
    },
    "kernelspec": {
      "name": "python3",
      "display_name": "Python 3"
    },
    "language_info": {
      "name": "python"
    }
  },
  "cells": [
    {
      "cell_type": "markdown",
      "source": [
        "**Importing necessary libraries**"
      ],
      "metadata": {
        "id": "ZJVpPzgdiiGC"
      }
    },
    {
      "cell_type": "code",
      "execution_count": 133,
      "metadata": {
        "id": "TI52pX1ZMCk9"
      },
      "outputs": [],
      "source": [
        "import numpy as np\n",
        "import pandas as pd\n",
        "import matplotlib.pyplot as plt\n",
        "import seaborn as sns"
      ]
    },
    {
      "cell_type": "markdown",
      "source": [
        "**Reading CSV files**"
      ],
      "metadata": {
        "id": "0jkL5BhOitka"
      }
    },
    {
      "cell_type": "code",
      "source": [
        "user_details = pd.read_csv('UserDetails.csv')\n",
        "cooking_sessions = pd.read_csv('CookingSessions.csv')\n",
        "order_details = pd.read_csv('OrderDetails.csv')"
      ],
      "metadata": {
        "id": "yqkxAIFGMmiu"
      },
      "execution_count": 134,
      "outputs": []
    },
    {
      "cell_type": "code",
      "source": [
        "user_details.head()"
      ],
      "metadata": {
        "colab": {
          "base_uri": "https://localhost:8080/",
          "height": 206
        },
        "id": "GU_xVd9vMpF0",
        "outputId": "276d5267-5d3a-4c4a-eb67-eea46a2c7a25"
      },
      "execution_count": 135,
      "outputs": [
        {
          "output_type": "execute_result",
          "data": {
            "text/plain": [
              "  User ID      User Name  Age       Location Registration Date         Phone  \\\n",
              "0    U001  Alice Johnson   28       New York        2023-01-15  123-456-7890   \n",
              "1    U002      Bob Smith   35    Los Angeles        2023-02-20  987-654-3210   \n",
              "2    U003    Charlie Lee   42        Chicago        2023-03-10  555-123-4567   \n",
              "3    U004    David Brown   27  San Francisco        2023-04-05  444-333-2222   \n",
              "4    U005     Emma White   30        Seattle        2023-05-22  777-888-9999   \n",
              "\n",
              "               Email Favorite Meal  Total Orders  \n",
              "0    alice@email.com        Dinner            12  \n",
              "1      bob@email.com         Lunch             8  \n",
              "2  charlie@email.com     Breakfast            15  \n",
              "3    david@email.com        Dinner            10  \n",
              "4     emma@email.com         Lunch             9  "
            ],
            "text/html": [
              "\n",
              "  <div id=\"df-2198784d-9071-4461-ad8a-89ed30b247bb\" class=\"colab-df-container\">\n",
              "    <div>\n",
              "<style scoped>\n",
              "    .dataframe tbody tr th:only-of-type {\n",
              "        vertical-align: middle;\n",
              "    }\n",
              "\n",
              "    .dataframe tbody tr th {\n",
              "        vertical-align: top;\n",
              "    }\n",
              "\n",
              "    .dataframe thead th {\n",
              "        text-align: right;\n",
              "    }\n",
              "</style>\n",
              "<table border=\"1\" class=\"dataframe\">\n",
              "  <thead>\n",
              "    <tr style=\"text-align: right;\">\n",
              "      <th></th>\n",
              "      <th>User ID</th>\n",
              "      <th>User Name</th>\n",
              "      <th>Age</th>\n",
              "      <th>Location</th>\n",
              "      <th>Registration Date</th>\n",
              "      <th>Phone</th>\n",
              "      <th>Email</th>\n",
              "      <th>Favorite Meal</th>\n",
              "      <th>Total Orders</th>\n",
              "    </tr>\n",
              "  </thead>\n",
              "  <tbody>\n",
              "    <tr>\n",
              "      <th>0</th>\n",
              "      <td>U001</td>\n",
              "      <td>Alice Johnson</td>\n",
              "      <td>28</td>\n",
              "      <td>New York</td>\n",
              "      <td>2023-01-15</td>\n",
              "      <td>123-456-7890</td>\n",
              "      <td>alice@email.com</td>\n",
              "      <td>Dinner</td>\n",
              "      <td>12</td>\n",
              "    </tr>\n",
              "    <tr>\n",
              "      <th>1</th>\n",
              "      <td>U002</td>\n",
              "      <td>Bob Smith</td>\n",
              "      <td>35</td>\n",
              "      <td>Los Angeles</td>\n",
              "      <td>2023-02-20</td>\n",
              "      <td>987-654-3210</td>\n",
              "      <td>bob@email.com</td>\n",
              "      <td>Lunch</td>\n",
              "      <td>8</td>\n",
              "    </tr>\n",
              "    <tr>\n",
              "      <th>2</th>\n",
              "      <td>U003</td>\n",
              "      <td>Charlie Lee</td>\n",
              "      <td>42</td>\n",
              "      <td>Chicago</td>\n",
              "      <td>2023-03-10</td>\n",
              "      <td>555-123-4567</td>\n",
              "      <td>charlie@email.com</td>\n",
              "      <td>Breakfast</td>\n",
              "      <td>15</td>\n",
              "    </tr>\n",
              "    <tr>\n",
              "      <th>3</th>\n",
              "      <td>U004</td>\n",
              "      <td>David Brown</td>\n",
              "      <td>27</td>\n",
              "      <td>San Francisco</td>\n",
              "      <td>2023-04-05</td>\n",
              "      <td>444-333-2222</td>\n",
              "      <td>david@email.com</td>\n",
              "      <td>Dinner</td>\n",
              "      <td>10</td>\n",
              "    </tr>\n",
              "    <tr>\n",
              "      <th>4</th>\n",
              "      <td>U005</td>\n",
              "      <td>Emma White</td>\n",
              "      <td>30</td>\n",
              "      <td>Seattle</td>\n",
              "      <td>2023-05-22</td>\n",
              "      <td>777-888-9999</td>\n",
              "      <td>emma@email.com</td>\n",
              "      <td>Lunch</td>\n",
              "      <td>9</td>\n",
              "    </tr>\n",
              "  </tbody>\n",
              "</table>\n",
              "</div>\n",
              "    <div class=\"colab-df-buttons\">\n",
              "\n",
              "  <div class=\"colab-df-container\">\n",
              "    <button class=\"colab-df-convert\" onclick=\"convertToInteractive('df-2198784d-9071-4461-ad8a-89ed30b247bb')\"\n",
              "            title=\"Convert this dataframe to an interactive table.\"\n",
              "            style=\"display:none;\">\n",
              "\n",
              "  <svg xmlns=\"http://www.w3.org/2000/svg\" height=\"24px\" viewBox=\"0 -960 960 960\">\n",
              "    <path d=\"M120-120v-720h720v720H120Zm60-500h600v-160H180v160Zm220 220h160v-160H400v160Zm0 220h160v-160H400v160ZM180-400h160v-160H180v160Zm440 0h160v-160H620v160ZM180-180h160v-160H180v160Zm440 0h160v-160H620v160Z\"/>\n",
              "  </svg>\n",
              "    </button>\n",
              "\n",
              "  <style>\n",
              "    .colab-df-container {\n",
              "      display:flex;\n",
              "      gap: 12px;\n",
              "    }\n",
              "\n",
              "    .colab-df-convert {\n",
              "      background-color: #E8F0FE;\n",
              "      border: none;\n",
              "      border-radius: 50%;\n",
              "      cursor: pointer;\n",
              "      display: none;\n",
              "      fill: #1967D2;\n",
              "      height: 32px;\n",
              "      padding: 0 0 0 0;\n",
              "      width: 32px;\n",
              "    }\n",
              "\n",
              "    .colab-df-convert:hover {\n",
              "      background-color: #E2EBFA;\n",
              "      box-shadow: 0px 1px 2px rgba(60, 64, 67, 0.3), 0px 1px 3px 1px rgba(60, 64, 67, 0.15);\n",
              "      fill: #174EA6;\n",
              "    }\n",
              "\n",
              "    .colab-df-buttons div {\n",
              "      margin-bottom: 4px;\n",
              "    }\n",
              "\n",
              "    [theme=dark] .colab-df-convert {\n",
              "      background-color: #3B4455;\n",
              "      fill: #D2E3FC;\n",
              "    }\n",
              "\n",
              "    [theme=dark] .colab-df-convert:hover {\n",
              "      background-color: #434B5C;\n",
              "      box-shadow: 0px 1px 3px 1px rgba(0, 0, 0, 0.15);\n",
              "      filter: drop-shadow(0px 1px 2px rgba(0, 0, 0, 0.3));\n",
              "      fill: #FFFFFF;\n",
              "    }\n",
              "  </style>\n",
              "\n",
              "    <script>\n",
              "      const buttonEl =\n",
              "        document.querySelector('#df-2198784d-9071-4461-ad8a-89ed30b247bb button.colab-df-convert');\n",
              "      buttonEl.style.display =\n",
              "        google.colab.kernel.accessAllowed ? 'block' : 'none';\n",
              "\n",
              "      async function convertToInteractive(key) {\n",
              "        const element = document.querySelector('#df-2198784d-9071-4461-ad8a-89ed30b247bb');\n",
              "        const dataTable =\n",
              "          await google.colab.kernel.invokeFunction('convertToInteractive',\n",
              "                                                    [key], {});\n",
              "        if (!dataTable) return;\n",
              "\n",
              "        const docLinkHtml = 'Like what you see? Visit the ' +\n",
              "          '<a target=\"_blank\" href=https://colab.research.google.com/notebooks/data_table.ipynb>data table notebook</a>'\n",
              "          + ' to learn more about interactive tables.';\n",
              "        element.innerHTML = '';\n",
              "        dataTable['output_type'] = 'display_data';\n",
              "        await google.colab.output.renderOutput(dataTable, element);\n",
              "        const docLink = document.createElement('div');\n",
              "        docLink.innerHTML = docLinkHtml;\n",
              "        element.appendChild(docLink);\n",
              "      }\n",
              "    </script>\n",
              "  </div>\n",
              "\n",
              "\n",
              "<div id=\"df-bc1eb41b-5f68-485e-bd51-35e6c4ad974d\">\n",
              "  <button class=\"colab-df-quickchart\" onclick=\"quickchart('df-bc1eb41b-5f68-485e-bd51-35e6c4ad974d')\"\n",
              "            title=\"Suggest charts\"\n",
              "            style=\"display:none;\">\n",
              "\n",
              "<svg xmlns=\"http://www.w3.org/2000/svg\" height=\"24px\"viewBox=\"0 0 24 24\"\n",
              "     width=\"24px\">\n",
              "    <g>\n",
              "        <path d=\"M19 3H5c-1.1 0-2 .9-2 2v14c0 1.1.9 2 2 2h14c1.1 0 2-.9 2-2V5c0-1.1-.9-2-2-2zM9 17H7v-7h2v7zm4 0h-2V7h2v10zm4 0h-2v-4h2v4z\"/>\n",
              "    </g>\n",
              "</svg>\n",
              "  </button>\n",
              "\n",
              "<style>\n",
              "  .colab-df-quickchart {\n",
              "      --bg-color: #E8F0FE;\n",
              "      --fill-color: #1967D2;\n",
              "      --hover-bg-color: #E2EBFA;\n",
              "      --hover-fill-color: #174EA6;\n",
              "      --disabled-fill-color: #AAA;\n",
              "      --disabled-bg-color: #DDD;\n",
              "  }\n",
              "\n",
              "  [theme=dark] .colab-df-quickchart {\n",
              "      --bg-color: #3B4455;\n",
              "      --fill-color: #D2E3FC;\n",
              "      --hover-bg-color: #434B5C;\n",
              "      --hover-fill-color: #FFFFFF;\n",
              "      --disabled-bg-color: #3B4455;\n",
              "      --disabled-fill-color: #666;\n",
              "  }\n",
              "\n",
              "  .colab-df-quickchart {\n",
              "    background-color: var(--bg-color);\n",
              "    border: none;\n",
              "    border-radius: 50%;\n",
              "    cursor: pointer;\n",
              "    display: none;\n",
              "    fill: var(--fill-color);\n",
              "    height: 32px;\n",
              "    padding: 0;\n",
              "    width: 32px;\n",
              "  }\n",
              "\n",
              "  .colab-df-quickchart:hover {\n",
              "    background-color: var(--hover-bg-color);\n",
              "    box-shadow: 0 1px 2px rgba(60, 64, 67, 0.3), 0 1px 3px 1px rgba(60, 64, 67, 0.15);\n",
              "    fill: var(--button-hover-fill-color);\n",
              "  }\n",
              "\n",
              "  .colab-df-quickchart-complete:disabled,\n",
              "  .colab-df-quickchart-complete:disabled:hover {\n",
              "    background-color: var(--disabled-bg-color);\n",
              "    fill: var(--disabled-fill-color);\n",
              "    box-shadow: none;\n",
              "  }\n",
              "\n",
              "  .colab-df-spinner {\n",
              "    border: 2px solid var(--fill-color);\n",
              "    border-color: transparent;\n",
              "    border-bottom-color: var(--fill-color);\n",
              "    animation:\n",
              "      spin 1s steps(1) infinite;\n",
              "  }\n",
              "\n",
              "  @keyframes spin {\n",
              "    0% {\n",
              "      border-color: transparent;\n",
              "      border-bottom-color: var(--fill-color);\n",
              "      border-left-color: var(--fill-color);\n",
              "    }\n",
              "    20% {\n",
              "      border-color: transparent;\n",
              "      border-left-color: var(--fill-color);\n",
              "      border-top-color: var(--fill-color);\n",
              "    }\n",
              "    30% {\n",
              "      border-color: transparent;\n",
              "      border-left-color: var(--fill-color);\n",
              "      border-top-color: var(--fill-color);\n",
              "      border-right-color: var(--fill-color);\n",
              "    }\n",
              "    40% {\n",
              "      border-color: transparent;\n",
              "      border-right-color: var(--fill-color);\n",
              "      border-top-color: var(--fill-color);\n",
              "    }\n",
              "    60% {\n",
              "      border-color: transparent;\n",
              "      border-right-color: var(--fill-color);\n",
              "    }\n",
              "    80% {\n",
              "      border-color: transparent;\n",
              "      border-right-color: var(--fill-color);\n",
              "      border-bottom-color: var(--fill-color);\n",
              "    }\n",
              "    90% {\n",
              "      border-color: transparent;\n",
              "      border-bottom-color: var(--fill-color);\n",
              "    }\n",
              "  }\n",
              "</style>\n",
              "\n",
              "  <script>\n",
              "    async function quickchart(key) {\n",
              "      const quickchartButtonEl =\n",
              "        document.querySelector('#' + key + ' button');\n",
              "      quickchartButtonEl.disabled = true;  // To prevent multiple clicks.\n",
              "      quickchartButtonEl.classList.add('colab-df-spinner');\n",
              "      try {\n",
              "        const charts = await google.colab.kernel.invokeFunction(\n",
              "            'suggestCharts', [key], {});\n",
              "      } catch (error) {\n",
              "        console.error('Error during call to suggestCharts:', error);\n",
              "      }\n",
              "      quickchartButtonEl.classList.remove('colab-df-spinner');\n",
              "      quickchartButtonEl.classList.add('colab-df-quickchart-complete');\n",
              "    }\n",
              "    (() => {\n",
              "      let quickchartButtonEl =\n",
              "        document.querySelector('#df-bc1eb41b-5f68-485e-bd51-35e6c4ad974d button');\n",
              "      quickchartButtonEl.style.display =\n",
              "        google.colab.kernel.accessAllowed ? 'block' : 'none';\n",
              "    })();\n",
              "  </script>\n",
              "</div>\n",
              "\n",
              "    </div>\n",
              "  </div>\n"
            ],
            "application/vnd.google.colaboratory.intrinsic+json": {
              "type": "dataframe",
              "variable_name": "user_details",
              "summary": "{\n  \"name\": \"user_details\",\n  \"rows\": 10,\n  \"fields\": [\n    {\n      \"column\": \"User ID\",\n      \"properties\": {\n        \"dtype\": \"string\",\n        \"num_unique_values\": 10,\n        \"samples\": [\n          \"U009\",\n          \"U002\",\n          \"U006\"\n        ],\n        \"semantic_type\": \"\",\n        \"description\": \"\"\n      }\n    },\n    {\n      \"column\": \"User Name\",\n      \"properties\": {\n        \"dtype\": \"string\",\n        \"num_unique_values\": 10,\n        \"samples\": [\n          \"Irene Moore\",\n          \"Bob Smith\",\n          \"Frank Green\"\n        ],\n        \"semantic_type\": \"\",\n        \"description\": \"\"\n      }\n    },\n    {\n      \"column\": \"Age\",\n      \"properties\": {\n        \"dtype\": \"number\",\n        \"std\": 5,\n        \"min\": 25,\n        \"max\": 42,\n        \"num_unique_values\": 10,\n        \"samples\": [\n          33,\n          35,\n          25\n        ],\n        \"semantic_type\": \"\",\n        \"description\": \"\"\n      }\n    },\n    {\n      \"column\": \"Location\",\n      \"properties\": {\n        \"dtype\": \"string\",\n        \"num_unique_values\": 10,\n        \"samples\": [\n          \"Dallas\",\n          \"Los Angeles\",\n          \"Austin\"\n        ],\n        \"semantic_type\": \"\",\n        \"description\": \"\"\n      }\n    },\n    {\n      \"column\": \"Registration Date\",\n      \"properties\": {\n        \"dtype\": \"object\",\n        \"num_unique_values\": 10,\n        \"samples\": [\n          \"2023-09-01\",\n          \"2023-02-20\",\n          \"2023-06-15\"\n        ],\n        \"semantic_type\": \"\",\n        \"description\": \"\"\n      }\n    },\n    {\n      \"column\": \"Phone\",\n      \"properties\": {\n        \"dtype\": \"string\",\n        \"num_unique_values\": 10,\n        \"samples\": [\n          \"202-303-4040\",\n          \"987-654-3210\",\n          \"888-777-6666\"\n        ],\n        \"semantic_type\": \"\",\n        \"description\": \"\"\n      }\n    },\n    {\n      \"column\": \"Email\",\n      \"properties\": {\n        \"dtype\": \"string\",\n        \"num_unique_values\": 10,\n        \"samples\": [\n          \"irene@email.com\",\n          \"bob@email.com\",\n          \"frank@email.com\"\n        ],\n        \"semantic_type\": \"\",\n        \"description\": \"\"\n      }\n    },\n    {\n      \"column\": \"Favorite Meal\",\n      \"properties\": {\n        \"dtype\": \"category\",\n        \"num_unique_values\": 3,\n        \"samples\": [\n          \"Dinner\",\n          \"Lunch\",\n          \"Breakfast\"\n        ],\n        \"semantic_type\": \"\",\n        \"description\": \"\"\n      }\n    },\n    {\n      \"column\": \"Total Orders\",\n      \"properties\": {\n        \"dtype\": \"number\",\n        \"std\": 3,\n        \"min\": 5,\n        \"max\": 15,\n        \"num_unique_values\": 9,\n        \"samples\": [\n          5,\n          8,\n          7\n        ],\n        \"semantic_type\": \"\",\n        \"description\": \"\"\n      }\n    }\n  ]\n}"
            }
          },
          "metadata": {},
          "execution_count": 135
        }
      ]
    },
    {
      "cell_type": "code",
      "source": [
        "cooking_sessions.head()"
      ],
      "metadata": {
        "colab": {
          "base_uri": "https://localhost:8080/",
          "height": 206
        },
        "id": "Ry7_OXNcUmxi",
        "outputId": "70263c6e-fe94-435e-8ace-3bd2d34d58ca"
      },
      "execution_count": 136,
      "outputs": [
        {
          "output_type": "execute_result",
          "data": {
            "text/plain": [
              "  Session ID User ID        Dish Name  Meal Type     Session Start  \\\n",
              "0       S001    U001        Spaghetti     Dinner  2024-12-01 19:00   \n",
              "1       S002    U002     Caesar Salad      Lunch  2024-12-01 12:00   \n",
              "2       S003    U003  Grilled Chicken     Dinner  2024-12-02 19:30   \n",
              "3       S004    U001         Pancakes  Breakfast  2024-12-02 07:30   \n",
              "4       S005    U004     Caesar Salad      Lunch  2024-12-03 13:00   \n",
              "\n",
              "        Session End  Duration (mins)  Session Rating  \n",
              "0  2024-12-01 19:30               30             4.5  \n",
              "1  2024-12-01 12:20               20             4.0  \n",
              "2  2024-12-02 20:10               40             4.8  \n",
              "3  2024-12-02 08:00               30             4.2  \n",
              "4  2024-12-03 13:15               15             4.7  "
            ],
            "text/html": [
              "\n",
              "  <div id=\"df-033cdf68-2d62-483a-9c74-61176bb24156\" class=\"colab-df-container\">\n",
              "    <div>\n",
              "<style scoped>\n",
              "    .dataframe tbody tr th:only-of-type {\n",
              "        vertical-align: middle;\n",
              "    }\n",
              "\n",
              "    .dataframe tbody tr th {\n",
              "        vertical-align: top;\n",
              "    }\n",
              "\n",
              "    .dataframe thead th {\n",
              "        text-align: right;\n",
              "    }\n",
              "</style>\n",
              "<table border=\"1\" class=\"dataframe\">\n",
              "  <thead>\n",
              "    <tr style=\"text-align: right;\">\n",
              "      <th></th>\n",
              "      <th>Session ID</th>\n",
              "      <th>User ID</th>\n",
              "      <th>Dish Name</th>\n",
              "      <th>Meal Type</th>\n",
              "      <th>Session Start</th>\n",
              "      <th>Session End</th>\n",
              "      <th>Duration (mins)</th>\n",
              "      <th>Session Rating</th>\n",
              "    </tr>\n",
              "  </thead>\n",
              "  <tbody>\n",
              "    <tr>\n",
              "      <th>0</th>\n",
              "      <td>S001</td>\n",
              "      <td>U001</td>\n",
              "      <td>Spaghetti</td>\n",
              "      <td>Dinner</td>\n",
              "      <td>2024-12-01 19:00</td>\n",
              "      <td>2024-12-01 19:30</td>\n",
              "      <td>30</td>\n",
              "      <td>4.5</td>\n",
              "    </tr>\n",
              "    <tr>\n",
              "      <th>1</th>\n",
              "      <td>S002</td>\n",
              "      <td>U002</td>\n",
              "      <td>Caesar Salad</td>\n",
              "      <td>Lunch</td>\n",
              "      <td>2024-12-01 12:00</td>\n",
              "      <td>2024-12-01 12:20</td>\n",
              "      <td>20</td>\n",
              "      <td>4.0</td>\n",
              "    </tr>\n",
              "    <tr>\n",
              "      <th>2</th>\n",
              "      <td>S003</td>\n",
              "      <td>U003</td>\n",
              "      <td>Grilled Chicken</td>\n",
              "      <td>Dinner</td>\n",
              "      <td>2024-12-02 19:30</td>\n",
              "      <td>2024-12-02 20:10</td>\n",
              "      <td>40</td>\n",
              "      <td>4.8</td>\n",
              "    </tr>\n",
              "    <tr>\n",
              "      <th>3</th>\n",
              "      <td>S004</td>\n",
              "      <td>U001</td>\n",
              "      <td>Pancakes</td>\n",
              "      <td>Breakfast</td>\n",
              "      <td>2024-12-02 07:30</td>\n",
              "      <td>2024-12-02 08:00</td>\n",
              "      <td>30</td>\n",
              "      <td>4.2</td>\n",
              "    </tr>\n",
              "    <tr>\n",
              "      <th>4</th>\n",
              "      <td>S005</td>\n",
              "      <td>U004</td>\n",
              "      <td>Caesar Salad</td>\n",
              "      <td>Lunch</td>\n",
              "      <td>2024-12-03 13:00</td>\n",
              "      <td>2024-12-03 13:15</td>\n",
              "      <td>15</td>\n",
              "      <td>4.7</td>\n",
              "    </tr>\n",
              "  </tbody>\n",
              "</table>\n",
              "</div>\n",
              "    <div class=\"colab-df-buttons\">\n",
              "\n",
              "  <div class=\"colab-df-container\">\n",
              "    <button class=\"colab-df-convert\" onclick=\"convertToInteractive('df-033cdf68-2d62-483a-9c74-61176bb24156')\"\n",
              "            title=\"Convert this dataframe to an interactive table.\"\n",
              "            style=\"display:none;\">\n",
              "\n",
              "  <svg xmlns=\"http://www.w3.org/2000/svg\" height=\"24px\" viewBox=\"0 -960 960 960\">\n",
              "    <path d=\"M120-120v-720h720v720H120Zm60-500h600v-160H180v160Zm220 220h160v-160H400v160Zm0 220h160v-160H400v160ZM180-400h160v-160H180v160Zm440 0h160v-160H620v160ZM180-180h160v-160H180v160Zm440 0h160v-160H620v160Z\"/>\n",
              "  </svg>\n",
              "    </button>\n",
              "\n",
              "  <style>\n",
              "    .colab-df-container {\n",
              "      display:flex;\n",
              "      gap: 12px;\n",
              "    }\n",
              "\n",
              "    .colab-df-convert {\n",
              "      background-color: #E8F0FE;\n",
              "      border: none;\n",
              "      border-radius: 50%;\n",
              "      cursor: pointer;\n",
              "      display: none;\n",
              "      fill: #1967D2;\n",
              "      height: 32px;\n",
              "      padding: 0 0 0 0;\n",
              "      width: 32px;\n",
              "    }\n",
              "\n",
              "    .colab-df-convert:hover {\n",
              "      background-color: #E2EBFA;\n",
              "      box-shadow: 0px 1px 2px rgba(60, 64, 67, 0.3), 0px 1px 3px 1px rgba(60, 64, 67, 0.15);\n",
              "      fill: #174EA6;\n",
              "    }\n",
              "\n",
              "    .colab-df-buttons div {\n",
              "      margin-bottom: 4px;\n",
              "    }\n",
              "\n",
              "    [theme=dark] .colab-df-convert {\n",
              "      background-color: #3B4455;\n",
              "      fill: #D2E3FC;\n",
              "    }\n",
              "\n",
              "    [theme=dark] .colab-df-convert:hover {\n",
              "      background-color: #434B5C;\n",
              "      box-shadow: 0px 1px 3px 1px rgba(0, 0, 0, 0.15);\n",
              "      filter: drop-shadow(0px 1px 2px rgba(0, 0, 0, 0.3));\n",
              "      fill: #FFFFFF;\n",
              "    }\n",
              "  </style>\n",
              "\n",
              "    <script>\n",
              "      const buttonEl =\n",
              "        document.querySelector('#df-033cdf68-2d62-483a-9c74-61176bb24156 button.colab-df-convert');\n",
              "      buttonEl.style.display =\n",
              "        google.colab.kernel.accessAllowed ? 'block' : 'none';\n",
              "\n",
              "      async function convertToInteractive(key) {\n",
              "        const element = document.querySelector('#df-033cdf68-2d62-483a-9c74-61176bb24156');\n",
              "        const dataTable =\n",
              "          await google.colab.kernel.invokeFunction('convertToInteractive',\n",
              "                                                    [key], {});\n",
              "        if (!dataTable) return;\n",
              "\n",
              "        const docLinkHtml = 'Like what you see? Visit the ' +\n",
              "          '<a target=\"_blank\" href=https://colab.research.google.com/notebooks/data_table.ipynb>data table notebook</a>'\n",
              "          + ' to learn more about interactive tables.';\n",
              "        element.innerHTML = '';\n",
              "        dataTable['output_type'] = 'display_data';\n",
              "        await google.colab.output.renderOutput(dataTable, element);\n",
              "        const docLink = document.createElement('div');\n",
              "        docLink.innerHTML = docLinkHtml;\n",
              "        element.appendChild(docLink);\n",
              "      }\n",
              "    </script>\n",
              "  </div>\n",
              "\n",
              "\n",
              "<div id=\"df-16137d08-17b2-4aaa-9313-1a341e5d4563\">\n",
              "  <button class=\"colab-df-quickchart\" onclick=\"quickchart('df-16137d08-17b2-4aaa-9313-1a341e5d4563')\"\n",
              "            title=\"Suggest charts\"\n",
              "            style=\"display:none;\">\n",
              "\n",
              "<svg xmlns=\"http://www.w3.org/2000/svg\" height=\"24px\"viewBox=\"0 0 24 24\"\n",
              "     width=\"24px\">\n",
              "    <g>\n",
              "        <path d=\"M19 3H5c-1.1 0-2 .9-2 2v14c0 1.1.9 2 2 2h14c1.1 0 2-.9 2-2V5c0-1.1-.9-2-2-2zM9 17H7v-7h2v7zm4 0h-2V7h2v10zm4 0h-2v-4h2v4z\"/>\n",
              "    </g>\n",
              "</svg>\n",
              "  </button>\n",
              "\n",
              "<style>\n",
              "  .colab-df-quickchart {\n",
              "      --bg-color: #E8F0FE;\n",
              "      --fill-color: #1967D2;\n",
              "      --hover-bg-color: #E2EBFA;\n",
              "      --hover-fill-color: #174EA6;\n",
              "      --disabled-fill-color: #AAA;\n",
              "      --disabled-bg-color: #DDD;\n",
              "  }\n",
              "\n",
              "  [theme=dark] .colab-df-quickchart {\n",
              "      --bg-color: #3B4455;\n",
              "      --fill-color: #D2E3FC;\n",
              "      --hover-bg-color: #434B5C;\n",
              "      --hover-fill-color: #FFFFFF;\n",
              "      --disabled-bg-color: #3B4455;\n",
              "      --disabled-fill-color: #666;\n",
              "  }\n",
              "\n",
              "  .colab-df-quickchart {\n",
              "    background-color: var(--bg-color);\n",
              "    border: none;\n",
              "    border-radius: 50%;\n",
              "    cursor: pointer;\n",
              "    display: none;\n",
              "    fill: var(--fill-color);\n",
              "    height: 32px;\n",
              "    padding: 0;\n",
              "    width: 32px;\n",
              "  }\n",
              "\n",
              "  .colab-df-quickchart:hover {\n",
              "    background-color: var(--hover-bg-color);\n",
              "    box-shadow: 0 1px 2px rgba(60, 64, 67, 0.3), 0 1px 3px 1px rgba(60, 64, 67, 0.15);\n",
              "    fill: var(--button-hover-fill-color);\n",
              "  }\n",
              "\n",
              "  .colab-df-quickchart-complete:disabled,\n",
              "  .colab-df-quickchart-complete:disabled:hover {\n",
              "    background-color: var(--disabled-bg-color);\n",
              "    fill: var(--disabled-fill-color);\n",
              "    box-shadow: none;\n",
              "  }\n",
              "\n",
              "  .colab-df-spinner {\n",
              "    border: 2px solid var(--fill-color);\n",
              "    border-color: transparent;\n",
              "    border-bottom-color: var(--fill-color);\n",
              "    animation:\n",
              "      spin 1s steps(1) infinite;\n",
              "  }\n",
              "\n",
              "  @keyframes spin {\n",
              "    0% {\n",
              "      border-color: transparent;\n",
              "      border-bottom-color: var(--fill-color);\n",
              "      border-left-color: var(--fill-color);\n",
              "    }\n",
              "    20% {\n",
              "      border-color: transparent;\n",
              "      border-left-color: var(--fill-color);\n",
              "      border-top-color: var(--fill-color);\n",
              "    }\n",
              "    30% {\n",
              "      border-color: transparent;\n",
              "      border-left-color: var(--fill-color);\n",
              "      border-top-color: var(--fill-color);\n",
              "      border-right-color: var(--fill-color);\n",
              "    }\n",
              "    40% {\n",
              "      border-color: transparent;\n",
              "      border-right-color: var(--fill-color);\n",
              "      border-top-color: var(--fill-color);\n",
              "    }\n",
              "    60% {\n",
              "      border-color: transparent;\n",
              "      border-right-color: var(--fill-color);\n",
              "    }\n",
              "    80% {\n",
              "      border-color: transparent;\n",
              "      border-right-color: var(--fill-color);\n",
              "      border-bottom-color: var(--fill-color);\n",
              "    }\n",
              "    90% {\n",
              "      border-color: transparent;\n",
              "      border-bottom-color: var(--fill-color);\n",
              "    }\n",
              "  }\n",
              "</style>\n",
              "\n",
              "  <script>\n",
              "    async function quickchart(key) {\n",
              "      const quickchartButtonEl =\n",
              "        document.querySelector('#' + key + ' button');\n",
              "      quickchartButtonEl.disabled = true;  // To prevent multiple clicks.\n",
              "      quickchartButtonEl.classList.add('colab-df-spinner');\n",
              "      try {\n",
              "        const charts = await google.colab.kernel.invokeFunction(\n",
              "            'suggestCharts', [key], {});\n",
              "      } catch (error) {\n",
              "        console.error('Error during call to suggestCharts:', error);\n",
              "      }\n",
              "      quickchartButtonEl.classList.remove('colab-df-spinner');\n",
              "      quickchartButtonEl.classList.add('colab-df-quickchart-complete');\n",
              "    }\n",
              "    (() => {\n",
              "      let quickchartButtonEl =\n",
              "        document.querySelector('#df-16137d08-17b2-4aaa-9313-1a341e5d4563 button');\n",
              "      quickchartButtonEl.style.display =\n",
              "        google.colab.kernel.accessAllowed ? 'block' : 'none';\n",
              "    })();\n",
              "  </script>\n",
              "</div>\n",
              "\n",
              "    </div>\n",
              "  </div>\n"
            ],
            "application/vnd.google.colaboratory.intrinsic+json": {
              "type": "dataframe",
              "variable_name": "cooking_sessions",
              "summary": "{\n  \"name\": \"cooking_sessions\",\n  \"rows\": 16,\n  \"fields\": [\n    {\n      \"column\": \"Session ID\",\n      \"properties\": {\n        \"dtype\": \"string\",\n        \"num_unique_values\": 16,\n        \"samples\": [\n          \"S001\",\n          \"S002\",\n          \"S006\"\n        ],\n        \"semantic_type\": \"\",\n        \"description\": \"\"\n      }\n    },\n    {\n      \"column\": \"User ID\",\n      \"properties\": {\n        \"dtype\": \"string\",\n        \"num_unique_values\": 8,\n        \"samples\": [\n          \"U002\",\n          \"U006\",\n          \"U001\"\n        ],\n        \"semantic_type\": \"\",\n        \"description\": \"\"\n      }\n    },\n    {\n      \"column\": \"Dish Name\",\n      \"properties\": {\n        \"dtype\": \"category\",\n        \"num_unique_values\": 6,\n        \"samples\": [\n          \"Spaghetti\",\n          \"Caesar Salad\",\n          \"Oatmeal\"\n        ],\n        \"semantic_type\": \"\",\n        \"description\": \"\"\n      }\n    },\n    {\n      \"column\": \"Meal Type\",\n      \"properties\": {\n        \"dtype\": \"category\",\n        \"num_unique_values\": 3,\n        \"samples\": [\n          \"Dinner\",\n          \"Lunch\",\n          \"Breakfast\"\n        ],\n        \"semantic_type\": \"\",\n        \"description\": \"\"\n      }\n    },\n    {\n      \"column\": \"Session Start\",\n      \"properties\": {\n        \"dtype\": \"object\",\n        \"num_unique_values\": 16,\n        \"samples\": [\n          \"2024-12-01 19:00\",\n          \"2024-12-01 12:00\",\n          \"2024-12-03 18:30\"\n        ],\n        \"semantic_type\": \"\",\n        \"description\": \"\"\n      }\n    },\n    {\n      \"column\": \"Session End\",\n      \"properties\": {\n        \"dtype\": \"object\",\n        \"num_unique_values\": 16,\n        \"samples\": [\n          \"2024-12-01 19:30\",\n          \"2024-12-01 12:20\",\n          \"2024-12-03 19:00\"\n        ],\n        \"semantic_type\": \"\",\n        \"description\": \"\"\n      }\n    },\n    {\n      \"column\": \"Duration (mins)\",\n      \"properties\": {\n        \"dtype\": \"number\",\n        \"std\": 10,\n        \"min\": 10,\n        \"max\": 45,\n        \"num_unique_values\": 6,\n        \"samples\": [\n          30,\n          20,\n          10\n        ],\n        \"semantic_type\": \"\",\n        \"description\": \"\"\n      }\n    },\n    {\n      \"column\": \"Session Rating\",\n      \"properties\": {\n        \"dtype\": \"number\",\n        \"std\": 0.2926174977679906,\n        \"min\": 4.0,\n        \"max\": 5.0,\n        \"num_unique_values\": 11,\n        \"samples\": [\n          4.3,\n          4.5,\n          4.1\n        ],\n        \"semantic_type\": \"\",\n        \"description\": \"\"\n      }\n    }\n  ]\n}"
            }
          },
          "metadata": {},
          "execution_count": 136
        }
      ]
    },
    {
      "cell_type": "code",
      "source": [
        "order_details.head()"
      ],
      "metadata": {
        "colab": {
          "base_uri": "https://localhost:8080/",
          "height": 206
        },
        "id": "Yvn-gYmJUpVx",
        "outputId": "f2142ff1-abb3-46ee-e1ce-0ee0250b9b53"
      },
      "execution_count": 137,
      "outputs": [
        {
          "output_type": "execute_result",
          "data": {
            "text/plain": [
              "   Order ID User ID  Order Date  Meal Type        Dish Name Order Status  \\\n",
              "0      1001    U001  2024-12-01     Dinner        Spaghetti    Completed   \n",
              "1      1002    U002  2024-12-01      Lunch     Caesar Salad    Completed   \n",
              "2      1003    U003  2024-12-02     Dinner  Grilled Chicken     Canceled   \n",
              "3      1004    U001  2024-12-02  Breakfast         Pancakes    Completed   \n",
              "4      1005    U004  2024-12-03      Lunch     Caesar Salad    Completed   \n",
              "\n",
              "   Amount (USD) Time of Day  Rating Session ID  \n",
              "0          15.0       Night     5.0       S001  \n",
              "1          10.0         Day     4.0       S002  \n",
              "2          12.5       Night     NaN       S003  \n",
              "3           8.0     Morning     4.0       S004  \n",
              "4           9.0         Day     4.0       S005  "
            ],
            "text/html": [
              "\n",
              "  <div id=\"df-5c95e6bc-46a7-4d6b-ba8d-ac50987db258\" class=\"colab-df-container\">\n",
              "    <div>\n",
              "<style scoped>\n",
              "    .dataframe tbody tr th:only-of-type {\n",
              "        vertical-align: middle;\n",
              "    }\n",
              "\n",
              "    .dataframe tbody tr th {\n",
              "        vertical-align: top;\n",
              "    }\n",
              "\n",
              "    .dataframe thead th {\n",
              "        text-align: right;\n",
              "    }\n",
              "</style>\n",
              "<table border=\"1\" class=\"dataframe\">\n",
              "  <thead>\n",
              "    <tr style=\"text-align: right;\">\n",
              "      <th></th>\n",
              "      <th>Order ID</th>\n",
              "      <th>User ID</th>\n",
              "      <th>Order Date</th>\n",
              "      <th>Meal Type</th>\n",
              "      <th>Dish Name</th>\n",
              "      <th>Order Status</th>\n",
              "      <th>Amount (USD)</th>\n",
              "      <th>Time of Day</th>\n",
              "      <th>Rating</th>\n",
              "      <th>Session ID</th>\n",
              "    </tr>\n",
              "  </thead>\n",
              "  <tbody>\n",
              "    <tr>\n",
              "      <th>0</th>\n",
              "      <td>1001</td>\n",
              "      <td>U001</td>\n",
              "      <td>2024-12-01</td>\n",
              "      <td>Dinner</td>\n",
              "      <td>Spaghetti</td>\n",
              "      <td>Completed</td>\n",
              "      <td>15.0</td>\n",
              "      <td>Night</td>\n",
              "      <td>5.0</td>\n",
              "      <td>S001</td>\n",
              "    </tr>\n",
              "    <tr>\n",
              "      <th>1</th>\n",
              "      <td>1002</td>\n",
              "      <td>U002</td>\n",
              "      <td>2024-12-01</td>\n",
              "      <td>Lunch</td>\n",
              "      <td>Caesar Salad</td>\n",
              "      <td>Completed</td>\n",
              "      <td>10.0</td>\n",
              "      <td>Day</td>\n",
              "      <td>4.0</td>\n",
              "      <td>S002</td>\n",
              "    </tr>\n",
              "    <tr>\n",
              "      <th>2</th>\n",
              "      <td>1003</td>\n",
              "      <td>U003</td>\n",
              "      <td>2024-12-02</td>\n",
              "      <td>Dinner</td>\n",
              "      <td>Grilled Chicken</td>\n",
              "      <td>Canceled</td>\n",
              "      <td>12.5</td>\n",
              "      <td>Night</td>\n",
              "      <td>NaN</td>\n",
              "      <td>S003</td>\n",
              "    </tr>\n",
              "    <tr>\n",
              "      <th>3</th>\n",
              "      <td>1004</td>\n",
              "      <td>U001</td>\n",
              "      <td>2024-12-02</td>\n",
              "      <td>Breakfast</td>\n",
              "      <td>Pancakes</td>\n",
              "      <td>Completed</td>\n",
              "      <td>8.0</td>\n",
              "      <td>Morning</td>\n",
              "      <td>4.0</td>\n",
              "      <td>S004</td>\n",
              "    </tr>\n",
              "    <tr>\n",
              "      <th>4</th>\n",
              "      <td>1005</td>\n",
              "      <td>U004</td>\n",
              "      <td>2024-12-03</td>\n",
              "      <td>Lunch</td>\n",
              "      <td>Caesar Salad</td>\n",
              "      <td>Completed</td>\n",
              "      <td>9.0</td>\n",
              "      <td>Day</td>\n",
              "      <td>4.0</td>\n",
              "      <td>S005</td>\n",
              "    </tr>\n",
              "  </tbody>\n",
              "</table>\n",
              "</div>\n",
              "    <div class=\"colab-df-buttons\">\n",
              "\n",
              "  <div class=\"colab-df-container\">\n",
              "    <button class=\"colab-df-convert\" onclick=\"convertToInteractive('df-5c95e6bc-46a7-4d6b-ba8d-ac50987db258')\"\n",
              "            title=\"Convert this dataframe to an interactive table.\"\n",
              "            style=\"display:none;\">\n",
              "\n",
              "  <svg xmlns=\"http://www.w3.org/2000/svg\" height=\"24px\" viewBox=\"0 -960 960 960\">\n",
              "    <path d=\"M120-120v-720h720v720H120Zm60-500h600v-160H180v160Zm220 220h160v-160H400v160Zm0 220h160v-160H400v160ZM180-400h160v-160H180v160Zm440 0h160v-160H620v160ZM180-180h160v-160H180v160Zm440 0h160v-160H620v160Z\"/>\n",
              "  </svg>\n",
              "    </button>\n",
              "\n",
              "  <style>\n",
              "    .colab-df-container {\n",
              "      display:flex;\n",
              "      gap: 12px;\n",
              "    }\n",
              "\n",
              "    .colab-df-convert {\n",
              "      background-color: #E8F0FE;\n",
              "      border: none;\n",
              "      border-radius: 50%;\n",
              "      cursor: pointer;\n",
              "      display: none;\n",
              "      fill: #1967D2;\n",
              "      height: 32px;\n",
              "      padding: 0 0 0 0;\n",
              "      width: 32px;\n",
              "    }\n",
              "\n",
              "    .colab-df-convert:hover {\n",
              "      background-color: #E2EBFA;\n",
              "      box-shadow: 0px 1px 2px rgba(60, 64, 67, 0.3), 0px 1px 3px 1px rgba(60, 64, 67, 0.15);\n",
              "      fill: #174EA6;\n",
              "    }\n",
              "\n",
              "    .colab-df-buttons div {\n",
              "      margin-bottom: 4px;\n",
              "    }\n",
              "\n",
              "    [theme=dark] .colab-df-convert {\n",
              "      background-color: #3B4455;\n",
              "      fill: #D2E3FC;\n",
              "    }\n",
              "\n",
              "    [theme=dark] .colab-df-convert:hover {\n",
              "      background-color: #434B5C;\n",
              "      box-shadow: 0px 1px 3px 1px rgba(0, 0, 0, 0.15);\n",
              "      filter: drop-shadow(0px 1px 2px rgba(0, 0, 0, 0.3));\n",
              "      fill: #FFFFFF;\n",
              "    }\n",
              "  </style>\n",
              "\n",
              "    <script>\n",
              "      const buttonEl =\n",
              "        document.querySelector('#df-5c95e6bc-46a7-4d6b-ba8d-ac50987db258 button.colab-df-convert');\n",
              "      buttonEl.style.display =\n",
              "        google.colab.kernel.accessAllowed ? 'block' : 'none';\n",
              "\n",
              "      async function convertToInteractive(key) {\n",
              "        const element = document.querySelector('#df-5c95e6bc-46a7-4d6b-ba8d-ac50987db258');\n",
              "        const dataTable =\n",
              "          await google.colab.kernel.invokeFunction('convertToInteractive',\n",
              "                                                    [key], {});\n",
              "        if (!dataTable) return;\n",
              "\n",
              "        const docLinkHtml = 'Like what you see? Visit the ' +\n",
              "          '<a target=\"_blank\" href=https://colab.research.google.com/notebooks/data_table.ipynb>data table notebook</a>'\n",
              "          + ' to learn more about interactive tables.';\n",
              "        element.innerHTML = '';\n",
              "        dataTable['output_type'] = 'display_data';\n",
              "        await google.colab.output.renderOutput(dataTable, element);\n",
              "        const docLink = document.createElement('div');\n",
              "        docLink.innerHTML = docLinkHtml;\n",
              "        element.appendChild(docLink);\n",
              "      }\n",
              "    </script>\n",
              "  </div>\n",
              "\n",
              "\n",
              "<div id=\"df-bef77a81-a247-40cd-af7d-b1faf72ec02e\">\n",
              "  <button class=\"colab-df-quickchart\" onclick=\"quickchart('df-bef77a81-a247-40cd-af7d-b1faf72ec02e')\"\n",
              "            title=\"Suggest charts\"\n",
              "            style=\"display:none;\">\n",
              "\n",
              "<svg xmlns=\"http://www.w3.org/2000/svg\" height=\"24px\"viewBox=\"0 0 24 24\"\n",
              "     width=\"24px\">\n",
              "    <g>\n",
              "        <path d=\"M19 3H5c-1.1 0-2 .9-2 2v14c0 1.1.9 2 2 2h14c1.1 0 2-.9 2-2V5c0-1.1-.9-2-2-2zM9 17H7v-7h2v7zm4 0h-2V7h2v10zm4 0h-2v-4h2v4z\"/>\n",
              "    </g>\n",
              "</svg>\n",
              "  </button>\n",
              "\n",
              "<style>\n",
              "  .colab-df-quickchart {\n",
              "      --bg-color: #E8F0FE;\n",
              "      --fill-color: #1967D2;\n",
              "      --hover-bg-color: #E2EBFA;\n",
              "      --hover-fill-color: #174EA6;\n",
              "      --disabled-fill-color: #AAA;\n",
              "      --disabled-bg-color: #DDD;\n",
              "  }\n",
              "\n",
              "  [theme=dark] .colab-df-quickchart {\n",
              "      --bg-color: #3B4455;\n",
              "      --fill-color: #D2E3FC;\n",
              "      --hover-bg-color: #434B5C;\n",
              "      --hover-fill-color: #FFFFFF;\n",
              "      --disabled-bg-color: #3B4455;\n",
              "      --disabled-fill-color: #666;\n",
              "  }\n",
              "\n",
              "  .colab-df-quickchart {\n",
              "    background-color: var(--bg-color);\n",
              "    border: none;\n",
              "    border-radius: 50%;\n",
              "    cursor: pointer;\n",
              "    display: none;\n",
              "    fill: var(--fill-color);\n",
              "    height: 32px;\n",
              "    padding: 0;\n",
              "    width: 32px;\n",
              "  }\n",
              "\n",
              "  .colab-df-quickchart:hover {\n",
              "    background-color: var(--hover-bg-color);\n",
              "    box-shadow: 0 1px 2px rgba(60, 64, 67, 0.3), 0 1px 3px 1px rgba(60, 64, 67, 0.15);\n",
              "    fill: var(--button-hover-fill-color);\n",
              "  }\n",
              "\n",
              "  .colab-df-quickchart-complete:disabled,\n",
              "  .colab-df-quickchart-complete:disabled:hover {\n",
              "    background-color: var(--disabled-bg-color);\n",
              "    fill: var(--disabled-fill-color);\n",
              "    box-shadow: none;\n",
              "  }\n",
              "\n",
              "  .colab-df-spinner {\n",
              "    border: 2px solid var(--fill-color);\n",
              "    border-color: transparent;\n",
              "    border-bottom-color: var(--fill-color);\n",
              "    animation:\n",
              "      spin 1s steps(1) infinite;\n",
              "  }\n",
              "\n",
              "  @keyframes spin {\n",
              "    0% {\n",
              "      border-color: transparent;\n",
              "      border-bottom-color: var(--fill-color);\n",
              "      border-left-color: var(--fill-color);\n",
              "    }\n",
              "    20% {\n",
              "      border-color: transparent;\n",
              "      border-left-color: var(--fill-color);\n",
              "      border-top-color: var(--fill-color);\n",
              "    }\n",
              "    30% {\n",
              "      border-color: transparent;\n",
              "      border-left-color: var(--fill-color);\n",
              "      border-top-color: var(--fill-color);\n",
              "      border-right-color: var(--fill-color);\n",
              "    }\n",
              "    40% {\n",
              "      border-color: transparent;\n",
              "      border-right-color: var(--fill-color);\n",
              "      border-top-color: var(--fill-color);\n",
              "    }\n",
              "    60% {\n",
              "      border-color: transparent;\n",
              "      border-right-color: var(--fill-color);\n",
              "    }\n",
              "    80% {\n",
              "      border-color: transparent;\n",
              "      border-right-color: var(--fill-color);\n",
              "      border-bottom-color: var(--fill-color);\n",
              "    }\n",
              "    90% {\n",
              "      border-color: transparent;\n",
              "      border-bottom-color: var(--fill-color);\n",
              "    }\n",
              "  }\n",
              "</style>\n",
              "\n",
              "  <script>\n",
              "    async function quickchart(key) {\n",
              "      const quickchartButtonEl =\n",
              "        document.querySelector('#' + key + ' button');\n",
              "      quickchartButtonEl.disabled = true;  // To prevent multiple clicks.\n",
              "      quickchartButtonEl.classList.add('colab-df-spinner');\n",
              "      try {\n",
              "        const charts = await google.colab.kernel.invokeFunction(\n",
              "            'suggestCharts', [key], {});\n",
              "      } catch (error) {\n",
              "        console.error('Error during call to suggestCharts:', error);\n",
              "      }\n",
              "      quickchartButtonEl.classList.remove('colab-df-spinner');\n",
              "      quickchartButtonEl.classList.add('colab-df-quickchart-complete');\n",
              "    }\n",
              "    (() => {\n",
              "      let quickchartButtonEl =\n",
              "        document.querySelector('#df-bef77a81-a247-40cd-af7d-b1faf72ec02e button');\n",
              "      quickchartButtonEl.style.display =\n",
              "        google.colab.kernel.accessAllowed ? 'block' : 'none';\n",
              "    })();\n",
              "  </script>\n",
              "</div>\n",
              "\n",
              "    </div>\n",
              "  </div>\n"
            ],
            "application/vnd.google.colaboratory.intrinsic+json": {
              "type": "dataframe",
              "variable_name": "order_details",
              "summary": "{\n  \"name\": \"order_details\",\n  \"rows\": 16,\n  \"fields\": [\n    {\n      \"column\": \"Order ID\",\n      \"properties\": {\n        \"dtype\": \"number\",\n        \"std\": 4,\n        \"min\": 1001,\n        \"max\": 1016,\n        \"num_unique_values\": 16,\n        \"samples\": [\n          1001,\n          1002,\n          1006\n        ],\n        \"semantic_type\": \"\",\n        \"description\": \"\"\n      }\n    },\n    {\n      \"column\": \"User ID\",\n      \"properties\": {\n        \"dtype\": \"string\",\n        \"num_unique_values\": 8,\n        \"samples\": [\n          \"U002\",\n          \"U006\",\n          \"U001\"\n        ],\n        \"semantic_type\": \"\",\n        \"description\": \"\"\n      }\n    },\n    {\n      \"column\": \"Order Date\",\n      \"properties\": {\n        \"dtype\": \"object\",\n        \"num_unique_values\": 8,\n        \"samples\": [\n          \"2024-12-02\",\n          \"2024-12-06\",\n          \"2024-12-01\"\n        ],\n        \"semantic_type\": \"\",\n        \"description\": \"\"\n      }\n    },\n    {\n      \"column\": \"Meal Type\",\n      \"properties\": {\n        \"dtype\": \"category\",\n        \"num_unique_values\": 3,\n        \"samples\": [\n          \"Dinner\",\n          \"Lunch\",\n          \"Breakfast\"\n        ],\n        \"semantic_type\": \"\",\n        \"description\": \"\"\n      }\n    },\n    {\n      \"column\": \"Dish Name\",\n      \"properties\": {\n        \"dtype\": \"category\",\n        \"num_unique_values\": 6,\n        \"samples\": [\n          \"Spaghetti\",\n          \"Caesar Salad\",\n          \"Oatmeal\"\n        ],\n        \"semantic_type\": \"\",\n        \"description\": \"\"\n      }\n    },\n    {\n      \"column\": \"Order Status\",\n      \"properties\": {\n        \"dtype\": \"category\",\n        \"num_unique_values\": 2,\n        \"samples\": [\n          \"Canceled\",\n          \"Completed\"\n        ],\n        \"semantic_type\": \"\",\n        \"description\": \"\"\n      }\n    },\n    {\n      \"column\": \"Amount (USD)\",\n      \"properties\": {\n        \"dtype\": \"number\",\n        \"std\": 2.4358434541926814,\n        \"min\": 7.0,\n        \"max\": 15.0,\n        \"num_unique_values\": 12,\n        \"samples\": [\n          8.5,\n          7.0\n        ],\n        \"semantic_type\": \"\",\n        \"description\": \"\"\n      }\n    },\n    {\n      \"column\": \"Time of Day\",\n      \"properties\": {\n        \"dtype\": \"category\",\n        \"num_unique_values\": 3,\n        \"samples\": [\n          \"Night\",\n          \"Day\"\n        ],\n        \"semantic_type\": \"\",\n        \"description\": \"\"\n      }\n    },\n    {\n      \"column\": \"Rating\",\n      \"properties\": {\n        \"dtype\": \"number\",\n        \"std\": 0.4688072309384954,\n        \"min\": 4.0,\n        \"max\": 5.0,\n        \"num_unique_values\": 2,\n        \"samples\": [\n          4.0,\n          5.0\n        ],\n        \"semantic_type\": \"\",\n        \"description\": \"\"\n      }\n    },\n    {\n      \"column\": \"Session ID\",\n      \"properties\": {\n        \"dtype\": \"string\",\n        \"num_unique_values\": 16,\n        \"samples\": [\n          \"S001\",\n          \"S002\"\n        ],\n        \"semantic_type\": \"\",\n        \"description\": \"\"\n      }\n    }\n  ]\n}"
            }
          },
          "metadata": {},
          "execution_count": 137
        }
      ]
    },
    {
      "cell_type": "markdown",
      "source": [
        "- \"OrderDetails\" have null values in \"Rating\" column"
      ],
      "metadata": {
        "id": "WAdtPJlHRbqz"
      }
    },
    {
      "cell_type": "markdown",
      "source": [
        "- Filling Null values in \"Rating\" column with average of Rating"
      ],
      "metadata": {
        "id": "CQDm0uqWSbon"
      }
    },
    {
      "cell_type": "code",
      "source": [
        "order_details.fillna(order_details['Rating'].mean(), inplace=True)\n",
        "order_details.info()"
      ],
      "metadata": {
        "colab": {
          "base_uri": "https://localhost:8080/"
        },
        "id": "RAzobVOARsBu",
        "outputId": "4b2ee44e-19dd-488b-a89d-1173ee640b5a"
      },
      "execution_count": 138,
      "outputs": [
        {
          "output_type": "stream",
          "name": "stdout",
          "text": [
            "<class 'pandas.core.frame.DataFrame'>\n",
            "RangeIndex: 16 entries, 0 to 15\n",
            "Data columns (total 10 columns):\n",
            " #   Column        Non-Null Count  Dtype  \n",
            "---  ------        --------------  -----  \n",
            " 0   Order ID      16 non-null     int64  \n",
            " 1   User ID       16 non-null     object \n",
            " 2   Order Date    16 non-null     object \n",
            " 3   Meal Type     16 non-null     object \n",
            " 4   Dish Name     16 non-null     object \n",
            " 5   Order Status  16 non-null     object \n",
            " 6   Amount (USD)  16 non-null     float64\n",
            " 7   Time of Day   16 non-null     object \n",
            " 8   Rating        16 non-null     float64\n",
            " 9   Session ID    16 non-null     object \n",
            "dtypes: float64(2), int64(1), object(7)\n",
            "memory usage: 1.4+ KB\n"
          ]
        }
      ]
    },
    {
      "cell_type": "markdown",
      "source": [
        "**- Removing Duplicates**"
      ],
      "metadata": {
        "id": "Rn_lsw6lVEH1"
      }
    },
    {
      "cell_type": "code",
      "source": [
        "user_details.drop_duplicates(inplace=True)\n",
        "cooking_sessions.drop_duplicates(inplace=True)\n",
        "order_details.drop_duplicates(inplace=True)"
      ],
      "metadata": {
        "id": "hJtSvgpgSDKL"
      },
      "execution_count": 139,
      "outputs": []
    },
    {
      "cell_type": "markdown",
      "source": [
        "**- Converting all date columns in datetime format**"
      ],
      "metadata": {
        "id": "pDYque3wV431"
      }
    },
    {
      "cell_type": "code",
      "source": [
        "user_details['Registration Date'] = pd.to_datetime(user_details['Registration Date'])\n",
        "cooking_sessions['Session Start'] = pd.to_datetime(cooking_sessions['Session Start'])\n",
        "cooking_sessions['Session End'] = pd.to_datetime(cooking_sessions['Session End'])\n",
        "order_details['Order Date'] = pd.to_datetime(order_details['Order Date'])"
      ],
      "metadata": {
        "id": "nPJtknsPTYLB"
      },
      "execution_count": 140,
      "outputs": []
    },
    {
      "cell_type": "code",
      "source": [
        "user_details.info()\n",
        "cooking_sessions.info()\n",
        "order_details.info()"
      ],
      "metadata": {
        "colab": {
          "base_uri": "https://localhost:8080/"
        },
        "id": "tEFbHRnwV14e",
        "outputId": "40ee7b47-f6a8-48d3-c574-bd5078d20afb"
      },
      "execution_count": 141,
      "outputs": [
        {
          "output_type": "stream",
          "name": "stdout",
          "text": [
            "<class 'pandas.core.frame.DataFrame'>\n",
            "RangeIndex: 10 entries, 0 to 9\n",
            "Data columns (total 9 columns):\n",
            " #   Column             Non-Null Count  Dtype         \n",
            "---  ------             --------------  -----         \n",
            " 0   User ID            10 non-null     object        \n",
            " 1   User Name          10 non-null     object        \n",
            " 2   Age                10 non-null     int64         \n",
            " 3   Location           10 non-null     object        \n",
            " 4   Registration Date  10 non-null     datetime64[ns]\n",
            " 5   Phone              10 non-null     object        \n",
            " 6   Email              10 non-null     object        \n",
            " 7   Favorite Meal      10 non-null     object        \n",
            " 8   Total Orders       10 non-null     int64         \n",
            "dtypes: datetime64[ns](1), int64(2), object(6)\n",
            "memory usage: 848.0+ bytes\n",
            "<class 'pandas.core.frame.DataFrame'>\n",
            "RangeIndex: 16 entries, 0 to 15\n",
            "Data columns (total 8 columns):\n",
            " #   Column           Non-Null Count  Dtype         \n",
            "---  ------           --------------  -----         \n",
            " 0   Session ID       16 non-null     object        \n",
            " 1   User ID          16 non-null     object        \n",
            " 2   Dish Name        16 non-null     object        \n",
            " 3   Meal Type        16 non-null     object        \n",
            " 4   Session Start    16 non-null     datetime64[ns]\n",
            " 5   Session End      16 non-null     datetime64[ns]\n",
            " 6   Duration (mins)  16 non-null     int64         \n",
            " 7   Session Rating   16 non-null     float64       \n",
            "dtypes: datetime64[ns](2), float64(1), int64(1), object(4)\n",
            "memory usage: 1.1+ KB\n",
            "<class 'pandas.core.frame.DataFrame'>\n",
            "RangeIndex: 16 entries, 0 to 15\n",
            "Data columns (total 10 columns):\n",
            " #   Column        Non-Null Count  Dtype         \n",
            "---  ------        --------------  -----         \n",
            " 0   Order ID      16 non-null     int64         \n",
            " 1   User ID       16 non-null     object        \n",
            " 2   Order Date    16 non-null     datetime64[ns]\n",
            " 3   Meal Type     16 non-null     object        \n",
            " 4   Dish Name     16 non-null     object        \n",
            " 5   Order Status  16 non-null     object        \n",
            " 6   Amount (USD)  16 non-null     float64       \n",
            " 7   Time of Day   16 non-null     object        \n",
            " 8   Rating        16 non-null     float64       \n",
            " 9   Session ID    16 non-null     object        \n",
            "dtypes: datetime64[ns](1), float64(2), int64(1), object(6)\n",
            "memory usage: 1.4+ KB\n"
          ]
        }
      ]
    },
    {
      "cell_type": "markdown",
      "source": [
        "**- Merging all the three datasets for better EDA**"
      ],
      "metadata": {
        "id": "pR3nTHqHWT9A"
      }
    },
    {
      "cell_type": "code",
      "source": [
        "df = user_details.merge(cooking_sessions, on='User ID').merge(order_details, on='Session ID')"
      ],
      "metadata": {
        "id": "w3U95ChNWHaI"
      },
      "execution_count": 142,
      "outputs": []
    },
    {
      "cell_type": "code",
      "source": [
        "df.info()"
      ],
      "metadata": {
        "colab": {
          "base_uri": "https://localhost:8080/"
        },
        "id": "0PtGcSU0XlQd",
        "outputId": "bcc9cc00-58a3-4649-dd80-5d22910b5cc7"
      },
      "execution_count": 143,
      "outputs": [
        {
          "output_type": "stream",
          "name": "stdout",
          "text": [
            "<class 'pandas.core.frame.DataFrame'>\n",
            "RangeIndex: 16 entries, 0 to 15\n",
            "Data columns (total 25 columns):\n",
            " #   Column             Non-Null Count  Dtype         \n",
            "---  ------             --------------  -----         \n",
            " 0   User ID_x          16 non-null     object        \n",
            " 1   User Name          16 non-null     object        \n",
            " 2   Age                16 non-null     int64         \n",
            " 3   Location           16 non-null     object        \n",
            " 4   Registration Date  16 non-null     datetime64[ns]\n",
            " 5   Phone              16 non-null     object        \n",
            " 6   Email              16 non-null     object        \n",
            " 7   Favorite Meal      16 non-null     object        \n",
            " 8   Total Orders       16 non-null     int64         \n",
            " 9   Session ID         16 non-null     object        \n",
            " 10  Dish Name_x        16 non-null     object        \n",
            " 11  Meal Type_x        16 non-null     object        \n",
            " 12  Session Start      16 non-null     datetime64[ns]\n",
            " 13  Session End        16 non-null     datetime64[ns]\n",
            " 14  Duration (mins)    16 non-null     int64         \n",
            " 15  Session Rating     16 non-null     float64       \n",
            " 16  Order ID           16 non-null     int64         \n",
            " 17  User ID_y          16 non-null     object        \n",
            " 18  Order Date         16 non-null     datetime64[ns]\n",
            " 19  Meal Type_y        16 non-null     object        \n",
            " 20  Dish Name_y        16 non-null     object        \n",
            " 21  Order Status       16 non-null     object        \n",
            " 22  Amount (USD)       16 non-null     float64       \n",
            " 23  Time of Day        16 non-null     object        \n",
            " 24  Rating             16 non-null     float64       \n",
            "dtypes: datetime64[ns](4), float64(3), int64(4), object(14)\n",
            "memory usage: 3.2+ KB\n"
          ]
        }
      ]
    },
    {
      "cell_type": "markdown",
      "source": [
        "**Popular Dishes**"
      ],
      "metadata": {
        "id": "ohHaRxKqW8h3"
      }
    },
    {
      "cell_type": "code",
      "source": [
        "popular_dishes = df['Dish Name_x'].value_counts()\n",
        "plt.figure(figsize=(10, 6))\n",
        "sns.barplot(x=popular_dishes.values, y=popular_dishes.index)\n",
        "plt.title('Top 10 Popular Dishes')\n",
        "plt.xlabel('Number of Orders')\n",
        "plt.ylabel('Dish Name')\n",
        "plt.show()"
      ],
      "metadata": {
        "colab": {
          "base_uri": "https://localhost:8080/",
          "height": 564
        },
        "id": "fa-wWHdHZwjh",
        "outputId": "2eb1bf58-1d5f-4397-a0f0-e5df4e533fe6"
      },
      "execution_count": 144,
      "outputs": [
        {
          "output_type": "display_data",
          "data": {
            "text/plain": [
              "<Figure size 1000x600 with 1 Axes>"
            ],
            "image/png": "[encoded data removed]"
          },
          "metadata": {}
        }
      ]
    },
    {
      "cell_type": "markdown",
      "source": [
        "**Insights:**\n",
        "\n",
        "- Spaghetti and Grilled Chicken are the most popular.\n",
        "\n",
        "- Oatmeal and Veggie Burger have the lowest order numbers.\n",
        "\n",
        "**Recommendations:**\n",
        "\n",
        "- Highlight Spaghetti and Grilled Chicken in marketing campaigns.\n",
        "\n",
        "- Improve or consider removing Oatmeal and Veggie Burger from the menu.\n",
        "- Create meal bundles that pair popular dishes with Oatmeal and Veggie Burger."
      ],
      "metadata": {
        "id": "uDOFnUH2i5j3"
      }
    },
    {
      "cell_type": "markdown",
      "source": [
        "**User Demographic**"
      ],
      "metadata": {
        "id": "9NHmCxldZNLm"
      }
    },
    {
      "cell_type": "code",
      "source": [
        "sns.countplot(x='Age', data=df)\n",
        "plt.title('User Demographic Distribution')\n",
        "plt.xlabel('Age')\n",
        "plt.ylabel('Number of Users')\n",
        "plt.show()"
      ],
      "metadata": {
        "colab": {
          "base_uri": "https://localhost:8080/",
          "height": 472
        },
        "id": "ol_3QdeLXILN",
        "outputId": "98fd1505-d309-48d7-973a-995b8b4d20cd"
      },
      "execution_count": 145,
      "outputs": [
        {
          "output_type": "display_data",
          "data": {
            "text/plain": [
              "<Figure size 640x480 with 1 Axes>"
            ],
            "image/png": "[encoded data removed]"
          },
          "metadata": {}
        }
      ]
    },
    {
      "cell_type": "markdown",
      "source": [
        "**Insights:**\n",
        "- The highest number of users are aged 28, 35, and 42.\n",
        "- The lowest number of users are aged 25, 31, and 38.\n",
        "\n",
        "**Recommendations:**\n",
        "- Focus marketing on the 28, 35, and 42 age groups to maximize engagement.\n",
        "- Develop campaigns to attract users aged 25, 31, and 38, such as special offers or discounts.\n",
        "- Gather feedback from lower-engagement age groups to understand their preferences and improve offers.\n"
      ],
      "metadata": {
        "id": "Fh5Dnlx9liij"
      }
    },
    {
      "cell_type": "code",
      "source": [
        "order_trends = df.groupby('Order Date')['Order ID'].count()\n",
        "order_trends.plot(kind='line')\n",
        "plt.title('Order Trends Over Time')\n",
        "plt.xlabel('Date')\n",
        "plt.ylabel('Number of Orders')\n",
        "plt.show()"
      ],
      "metadata": {
        "colab": {
          "base_uri": "https://localhost:8080/",
          "height": 504
        },
        "id": "Jb92ZquNukgO",
        "outputId": "6e9779e0-a88e-4263-9bdc-5ff8f7415a82"
      },
      "execution_count": 146,
      "outputs": [
        {
          "output_type": "display_data",
          "data": {
            "text/plain": [
              "<Figure size 640x480 with 1 Axes>"
            ],
            "image/png": "[encoded data removed]"
          },
          "metadata": {}
        }
      ]
    },
    {
      "cell_type": "markdown",
      "source": [
        "**Insights:**\n",
        "- The straight line indicates that we only have the data of 2 orders per day.\n",
        "\n",
        "**Recommandations:**\n",
        "- Given the limited data, it is challenging to derive meaningful recommendations at this time."
      ],
      "metadata": {
        "id": "y6SmlN2vu9Az"
      }
    },
    {
      "cell_type": "markdown",
      "source": [
        "**Cooking Sessions Duration Over Time**"
      ],
      "metadata": {
        "id": "Fb0DhxEjc_fE"
      }
    },
    {
      "cell_type": "code",
      "source": [
        "cooking_sessions_duration = (cooking_sessions['Session End'] - cooking_sessions['Session Start']).dt.total_seconds() / 60\n",
        "cooking_sessions_duration.plot(kind='line')\n",
        "plt.title('Cooking Session Duration Over Time')\n",
        "plt.xlabel('Date')\n",
        "plt.ylabel('Duration')\n",
        "plt.show()"
      ],
      "metadata": {
        "colab": {
          "base_uri": "https://localhost:8080/",
          "height": 472
        },
        "id": "XNKS-sfJZdgm",
        "outputId": "afc48db1-9dad-490d-923a-48c274b3cf8f"
      },
      "execution_count": 147,
      "outputs": [
        {
          "output_type": "display_data",
          "data": {
            "text/plain": [
              "<Figure size 640x480 with 1 Axes>"
            ],
            "image/png": "[encoded data removed]"
          },
          "metadata": {}
        }
      ]
    },
    {
      "cell_type": "markdown",
      "source": [
        "**Insights:**\n",
        "- The longest cooking sessions occurred on the 6th and 13th, each lasting 45 minutes, followed by the 8th and 11th with 40 minutes.\n",
        "- The shortest cooking session was on the 9th at 10 minutes, followed by the 4th at 15 minutes.\n",
        "\n",
        "**Recommendations:**\n",
        "- Investigate what contributed to the longer cooking times on the 6th and 13th to replicate successful factors in future sessions.\n",
        "- Implement strategies to encourage longer cooking sessions on days with historically low cooking times, such as offering incentives or special recipes.\n",
        "- Enhance recipe instructions or provide additional resources on days with shorter cooking times to encourage users to spend more time cooking.\n"
      ],
      "metadata": {
        "id": "V0GYXcABnnA9"
      }
    },
    {
      "cell_type": "markdown",
      "source": [
        "**Order Amount by Age**"
      ],
      "metadata": {
        "id": "WjnBLMj3fF0I"
      }
    },
    {
      "cell_type": "code",
      "source": [
        "sns.barplot(x='Age', y='Amount (USD)', data=df)\n",
        "plt.title('Order Amount by Age')\n",
        "plt.xlabel('Age')\n",
        "plt.ylabel('Order Amount')\n",
        "plt.show()"
      ],
      "metadata": {
        "colab": {
          "base_uri": "https://localhost:8080/",
          "height": 472
        },
        "id": "HzOBI2_UfBVh",
        "outputId": "bd2bdf36-a873-44dd-f8a4-be333fa7a515"
      },
      "execution_count": 148,
      "outputs": [
        {
          "output_type": "display_data",
          "data": {
            "text/plain": [
              "<Figure size 640x480 with 1 Axes>"
            ],
            "image/png": "[encoded data removed]"
          },
          "metadata": {}
        }
      ]
    },
    {
      "cell_type": "markdown",
      "source": [
        "**Insights:**\n",
        "- Users aged 25 and 38 spent the maximum amounts.\n",
        "- Users aged 27 and 35 recorded the minimum spending amounts.\n",
        "\n",
        "**Recommendations:**\n",
        "- Develop targeted marketing campaigns aimed at users aged 25 and 38 to encourage repeat purchases and loyalty.\n",
        "- Analyze the preferences and behaviors of users aged 27 and 35 to identify barriers to higher spending.\n",
        "- Create tailored promotions or discounts for users in the lower spending age groups to incentivize increased spending.\n",
        "\n"
      ],
      "metadata": {
        "id": "PJZ5zyVTo4vu"
      }
    },
    {
      "cell_type": "markdown",
      "source": [
        "**Dish Distribution**"
      ],
      "metadata": {
        "id": "aeo1vCnShL35"
      }
    },
    {
      "cell_type": "code",
      "source": [
        "dish_distribution = df['Dish Name_y'].value_counts()\n",
        "dish_distribution.plot.pie(autopct='%1.1f%%', startangle=90)\n",
        "plt.title('Dish Distribution')\n",
        "plt.ylabel('')\n",
        "plt.show()"
      ],
      "metadata": {
        "colab": {
          "base_uri": "https://localhost:8080/",
          "height": 428
        },
        "id": "8il1DE_ThHwt",
        "outputId": "e8550d01-ae59-46ca-afdd-6fff33a3bc0e"
      },
      "execution_count": 149,
      "outputs": [
        {
          "output_type": "display_data",
          "data": {
            "text/plain": [
              "<Figure size 640x480 with 1 Axes>"
            ],
            "image/png": "[encoded data removed]"
          },
          "metadata": {}
        }
      ]
    },
    {
      "cell_type": "markdown",
      "source": [
        "**Insights:**\n",
        "- Spaghetti and Grilled Chicken each account for 25% of total orders, together contributing to 50% of all orders.\n",
        "- Oatmeal contributes the least at 6.2% of total orders.\n",
        "- Pancakes and Veggie Burger each contribute 12.5%, while Caesar Salad contributes 18.8% of total orders.\n",
        "\n",
        "**Recommendations:**\n",
        "- Focus marketing efforts on Spaghetti and Grilled Chicken to further capitalize on their popularity and drive sales.\n",
        "- Consider improving the recipe or presentation of Oatmeal to increase its appeal and boost its contribution to total orders.\n",
        "- Create promotional bundles that include Pancakes, Veggie Burger, and Caesar Salad to encourage customers to try these dishes together."
      ],
      "metadata": {
        "id": "tTtXbswCp4xp"
      }
    }
  ]
}